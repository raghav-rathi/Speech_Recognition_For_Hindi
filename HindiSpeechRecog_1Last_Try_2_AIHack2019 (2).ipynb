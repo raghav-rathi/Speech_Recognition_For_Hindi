{
 "cells": [
  {
   "cell_type": "code",
   "execution_count": 1,
   "metadata": {},
   "outputs": [],
   "source": [
    "import librosa"
   ]
  },
  {
   "cell_type": "code",
   "execution_count": 2,
   "metadata": {},
   "outputs": [],
   "source": [
    "import sklearn"
   ]
  },
  {
   "cell_type": "code",
   "execution_count": 3,
   "metadata": {},
   "outputs": [],
   "source": [
    "import matplotlib.pyplot as plt"
   ]
  },
  {
   "cell_type": "code",
   "execution_count": 4,
   "metadata": {},
   "outputs": [],
   "source": [
    "#Data_Preprocessing...!!!"
   ]
  },
  {
   "cell_type": "code",
   "execution_count": 5,
   "metadata": {},
   "outputs": [],
   "source": [
    "s1,f1=librosa.load(r'sample_1.wav')"
   ]
  },
  {
   "cell_type": "code",
   "execution_count": 6,
   "metadata": {},
   "outputs": [
    {
     "data": {
      "text/plain": [
       "[<matplotlib.lines.Line2D at 0x149530d0>]"
      ]
     },
     "execution_count": 6,
     "metadata": {},
     "output_type": "execute_result"
    },
    {
     "data": {
      "image/png": "[encoded data removed]",
      "text/plain": [
       "<Figure size 432x288 with 1 Axes>"
      ]
     },
     "metadata": {
      "needs_background": "light"
     },
     "output_type": "display_data"
    }
   ],
   "source": [
    "plt.plot(s1)"
   ]
  },
  {
   "cell_type": "code",
   "execution_count": 7,
   "metadata": {},
   "outputs": [],
   "source": [
    "s2, f2 = librosa.load(r'sample_2.wav') \n",
    "s3, f3 = librosa.load(r'sample_3.wav') \n",
    "s4, f4 = librosa.load(r'sample_4.wav') \n",
    "s5, f5 = librosa.load(r'sample_5.wav') \n",
    "s6, f6 = librosa.load(r'sample_6.wav') \n",
    "s7, f7 = librosa.load(r'sample_7.wav') \n",
    "s8, f8 = librosa.load(r'sample_8.wav') \n",
    "s9, f9 = librosa.load(r'sample_9.wav') \n",
    "s10, f10 = librosa.load(r'sample_10.wav')"
   ]
  },
  {
   "cell_type": "code",
   "execution_count": 8,
   "metadata": {},
   "outputs": [
    {
     "data": {
      "text/plain": [
       "346097"
      ]
     },
     "execution_count": 8,
     "metadata": {},
     "output_type": "execute_result"
    }
   ],
   "source": [
    "X=[s1,s2,s3,s4,s5,s6,s7,s8,s9,s10]\n",
    "max(len(s1),len(s2),len(s3),len(s4),len(s5),len(s6),len(s7),len(s8),len(s9),len(s10))"
   ]
  },
  {
   "cell_type": "code",
   "execution_count": 9,
   "metadata": {},
   "outputs": [],
   "source": [
    "#Padding..the arrays to (4,00,000,) shape......."
   ]
  },
  {
   "cell_type": "code",
   "execution_count": 10,
   "metadata": {},
   "outputs": [],
   "source": [
    "for i in range(10):\n",
    "    X[i]=list(X[i])\n",
    "    c=400000-len(X[i])\n",
    "    for j in range(c):\n",
    "        X[i].append(0)"
   ]
  },
  {
   "cell_type": "code",
   "execution_count": 11,
   "metadata": {},
   "outputs": [],
   "source": [
    "#Cleaning_The_Data..."
   ]
  },
  {
   "cell_type": "code",
   "execution_count": 12,
   "metadata": {},
   "outputs": [],
   "source": [
    "c1='विभाग की किसी भी प्रकार की जानकारी के लिए और अगर आप की कोई सूचना देना चाहते हैं तो कृपया इस ईमेल पर संपर्क कीजिए'\n",
    "c2='यदि वर्तमान पता आधार कार्ड में छपे पते से अलग है तो क्या फिर भी आधार कार्ड के आधार पर प्रधानमंत्री जन-धन योजना के अंतर्गत खाते खोले जा सकते हैं'\n",
    "c3='हैकर्स ने इस ऐप में एक मालवेयर इंजेक्ट किया है जिसके चलते दस लाख से भी ज्यादा यूजर्स की निजी जानकारी और सुरक्षा खतरे में है'\n",
    "c4='आपत्ति की प्रसंग के लिए आर्थिक मदद के लिए राष्ट्रीयकृत बैंकों में सरकार द्वारा खोले गए खातों में पैसा जमा कर सकते हैं'\n",
    "c5='यदि पति तथा पत्नी दोनों जो कि पीएमजेडीवाई के अंतर्गत खाता खोल रहे हैं तो वे अलग-अलग दोनों खातों में लाख रुपए के दुर्घटना बीमा कवर पात्र है'\n",
    "c6='अंतरराष्ट्रीय बाजार में बढ़त के चलते तमाम एशियाई बाजार में तेजी देखने को मिल रही है'\n",
    "c7='विश्वविद्यालय या युनिवर्सिटी वह संस्था है जिसमें सभी प्रकार की विद्याओं की उच्च कोटि की शिक्षा दी जाती है'\n",
    "c8='उच्च न्यायालय राज्य सरकार की पूर्व मंजूरी से निम्नलिखित के बारे में नियम बना सकेगा'\n",
    "c9='त्यौहारों में हमारे यहां विभिन्न प्रकार के नमकीन बनाए जाते हैं जिसमें से कुछ सेव चाकोली हींग का चूड़ा मिक्सर'\n",
    "c10='सभी मंजिलों के नक्शे दो विभागों के साथ देने चाहिए '"
   ]
  },
  {
   "cell_type": "code",
   "execution_count": 13,
   "metadata": {},
   "outputs": [],
   "source": [
    "All_i_got_in_TheSampleDataset=(c1.split())+(c2.split())+(c3.split())+(c4.split())+(c5.split())+(c6.split())+(c7.split())+(c8.split())+(c9.split())+(c10.split())"
   ]
  },
  {
   "cell_type": "code",
   "execution_count": 14,
   "metadata": {},
   "outputs": [
    {
     "data": {
      "text/plain": [
       "212"
      ]
     },
     "execution_count": 14,
     "metadata": {},
     "output_type": "execute_result"
    }
   ],
   "source": [
    "len(All_i_got_in_TheSampleDataset)"
   ]
  },
  {
   "cell_type": "code",
   "execution_count": 15,
   "metadata": {},
   "outputs": [],
   "source": [
    "Wordz=set(All_i_got_in_TheSampleDataset)"
   ]
  },
  {
   "cell_type": "code",
   "execution_count": 16,
   "metadata": {},
   "outputs": [
    {
     "data": {
      "text/plain": [
       "143"
      ]
     },
     "execution_count": 16,
     "metadata": {},
     "output_type": "execute_result"
    }
   ],
   "source": [
    "len(Wordz)"
   ]
  },
  {
   "cell_type": "code",
   "execution_count": 17,
   "metadata": {},
   "outputs": [
    {
     "name": "stdout",
     "output_type": "stream",
     "text": [
      "Yep..!\n"
     ]
    }
   ],
   "source": [
    "if 'से' in Wordz:\n",
    "    print(\"Yep..!\")\n",
    "else:\n",
    "    print(\"Nah\")"
   ]
  },
  {
   "cell_type": "code",
   "execution_count": 18,
   "metadata": {},
   "outputs": [],
   "source": [
    "Wordz=list(Wordz)"
   ]
  },
  {
   "cell_type": "code",
   "execution_count": 22,
   "metadata": {},
   "outputs": [],
   "source": [
    "from sklearn import preprocessing\n",
    "Word2vec=preprocessing.LabelEncoder()\n",
    "Labels=Word2vec.fit_transform(Wordz)"
   ]
  },
  {
   "cell_type": "code",
   "execution_count": 23,
   "metadata": {},
   "outputs": [],
   "source": [
    "if 143 in Labels:\n",
    "    print(\"yes\")"
   ]
  },
  {
   "cell_type": "code",
   "execution_count": 24,
   "metadata": {},
   "outputs": [
    {
     "data": {
      "text/plain": [
       "['हैकर्स', 'चाहते', 'खाता', 'कृपया', 'यूजर्स', 'अगर', 'आधार', 'खतरे', 'तो']"
      ]
     },
     "execution_count": 24,
     "metadata": {},
     "output_type": "execute_result"
    }
   ],
   "source": [
    "Wordz[1:10]"
   ]
  },
  {
   "cell_type": "code",
   "execution_count": 25,
   "metadata": {},
   "outputs": [
    {
     "data": {
      "text/plain": [
       "array([142,  42,  34,  27, 109,   2,   5,  33,  59], dtype=int32)"
      ]
     },
     "execution_count": 25,
     "metadata": {},
     "output_type": "execute_result"
    }
   ],
   "source": [
    "Labels[1:10]"
   ]
  },
  {
   "cell_type": "code",
   "execution_count": 26,
   "metadata": {},
   "outputs": [],
   "source": [
    "#Transformation..."
   ]
  },
  {
   "cell_type": "code",
   "execution_count": 27,
   "metadata": {},
   "outputs": [],
   "source": [
    "c1=c1.split()\n",
    "c2=c2.split()\n",
    "c3=c3.split()\n",
    "c4=c4.split()\n",
    "c5=c5.split()\n",
    "c6=c6.split()\n",
    "c7=c7.split()\n",
    "c8=c8.split()\n",
    "c9=c9.split()\n",
    "c10=c10.split()"
   ]
  },
  {
   "cell_type": "code",
   "execution_count": 28,
   "metadata": {},
   "outputs": [],
   "source": [
    "Y=[c1,c2,c3,c4,c5,c6,c7,c8,c9,c10]"
   ]
  },
  {
   "cell_type": "code",
   "execution_count": 29,
   "metadata": {},
   "outputs": [],
   "source": [
    "for i in range(len(Y)):\n",
    "    Y[i]=Word2vec.transform(Y[i])\n",
    "    Y[i]=list(Y[i])"
   ]
  },
  {
   "cell_type": "code",
   "execution_count": 30,
   "metadata": {},
   "outputs": [
    {
     "data": {
      "text/plain": [
       "26"
      ]
     },
     "execution_count": 30,
     "metadata": {},
     "output_type": "execute_result"
    }
   ],
   "source": [
    "len(max(Y))"
   ]
  },
  {
   "cell_type": "code",
   "execution_count": 31,
   "metadata": {},
   "outputs": [],
   "source": [
    "#Padding using 143.....\n",
    "\n",
    "for i in range(len(Y)):\n",
    "    k=40-len(Y[i])\n",
    "    for j in range(k):\n",
    "        Y[i].append(143)"
   ]
  },
  {
   "cell_type": "code",
   "execution_count": 32,
   "metadata": {},
   "outputs": [
    {
     "data": {
      "text/plain": [
       "[[121,\n",
       "  24,\n",
       "  23,\n",
       "  97,\n",
       "  86,\n",
       "  24,\n",
       "  51,\n",
       "  28,\n",
       "  117,\n",
       "  16,\n",
       "  2,\n",
       "  6,\n",
       "  24,\n",
       "  30,\n",
       "  135,\n",
       "  65,\n",
       "  42,\n",
       "  141,\n",
       "  59,\n",
       "  27,\n",
       "  10,\n",
       "  11,\n",
       "  81,\n",
       "  127,\n",
       "  25,\n",
       "  143,\n",
       "  143,\n",
       "  143,\n",
       "  143,\n",
       "  143,\n",
       "  143,\n",
       "  143,\n",
       "  143,\n",
       "  143,\n",
       "  143,\n",
       "  143,\n",
       "  143,\n",
       "  143,\n",
       "  143,\n",
       "  143],\n",
       " [105,\n",
       "  118,\n",
       "  77,\n",
       "  5,\n",
       "  20,\n",
       "  104,\n",
       "  45,\n",
       "  79,\n",
       "  136,\n",
       "  3,\n",
       "  140,\n",
       "  59,\n",
       "  32,\n",
       "  89,\n",
       "  97,\n",
       "  5,\n",
       "  20,\n",
       "  28,\n",
       "  5,\n",
       "  81,\n",
       "  87,\n",
       "  46,\n",
       "  110,\n",
       "  28,\n",
       "  1,\n",
       "  35,\n",
       "  38,\n",
       "  48,\n",
       "  129,\n",
       "  141,\n",
       "  143,\n",
       "  143,\n",
       "  143,\n",
       "  143,\n",
       "  143,\n",
       "  143,\n",
       "  143,\n",
       "  143,\n",
       "  143,\n",
       "  143],\n",
       " [142,\n",
       "  75,\n",
       "  10,\n",
       "  15,\n",
       "  104,\n",
       "  13,\n",
       "  101,\n",
       "  9,\n",
       "  22,\n",
       "  140,\n",
       "  52,\n",
       "  40,\n",
       "  61,\n",
       "  116,\n",
       "  136,\n",
       "  97,\n",
       "  55,\n",
       "  109,\n",
       "  24,\n",
       "  72,\n",
       "  51,\n",
       "  16,\n",
       "  134,\n",
       "  33,\n",
       "  104,\n",
       "  140,\n",
       "  143,\n",
       "  143,\n",
       "  143,\n",
       "  143,\n",
       "  143,\n",
       "  143,\n",
       "  143,\n",
       "  143,\n",
       "  143,\n",
       "  143,\n",
       "  143,\n",
       "  143,\n",
       "  143,\n",
       "  143],\n",
       " [7,\n",
       "  24,\n",
       "  88,\n",
       "  28,\n",
       "  117,\n",
       "  8,\n",
       "  100,\n",
       "  28,\n",
       "  117,\n",
       "  114,\n",
       "  96,\n",
       "  104,\n",
       "  132,\n",
       "  69,\n",
       "  38,\n",
       "  39,\n",
       "  36,\n",
       "  104,\n",
       "  85,\n",
       "  47,\n",
       "  17,\n",
       "  129,\n",
       "  141,\n",
       "  143,\n",
       "  143,\n",
       "  143,\n",
       "  143,\n",
       "  143,\n",
       "  143,\n",
       "  143,\n",
       "  143,\n",
       "  143,\n",
       "  143,\n",
       "  143,\n",
       "  143,\n",
       "  143,\n",
       "  143,\n",
       "  143,\n",
       "  143,\n",
       "  143],\n",
       " [105,\n",
       "  78,\n",
       "  56,\n",
       "  80,\n",
       "  68,\n",
       "  54,\n",
       "  21,\n",
       "  83,\n",
       "  28,\n",
       "  1,\n",
       "  34,\n",
       "  37,\n",
       "  112,\n",
       "  141,\n",
       "  59,\n",
       "  125,\n",
       "  4,\n",
       "  68,\n",
       "  36,\n",
       "  104,\n",
       "  116,\n",
       "  115,\n",
       "  28,\n",
       "  63,\n",
       "  95,\n",
       "  18,\n",
       "  82,\n",
       "  140,\n",
       "  143,\n",
       "  143,\n",
       "  143,\n",
       "  143,\n",
       "  143,\n",
       "  143,\n",
       "  143,\n",
       "  143,\n",
       "  143,\n",
       "  143,\n",
       "  143,\n",
       "  143],\n",
       " [0,\n",
       "  93,\n",
       "  104,\n",
       "  90,\n",
       "  28,\n",
       "  40,\n",
       "  57,\n",
       "  14,\n",
       "  93,\n",
       "  104,\n",
       "  58,\n",
       "  64,\n",
       "  29,\n",
       "  103,\n",
       "  111,\n",
       "  140,\n",
       "  143,\n",
       "  143,\n",
       "  143,\n",
       "  143,\n",
       "  143,\n",
       "  143,\n",
       "  143,\n",
       "  143,\n",
       "  143,\n",
       "  143,\n",
       "  143,\n",
       "  143,\n",
       "  143,\n",
       "  143,\n",
       "  143,\n",
       "  143,\n",
       "  143,\n",
       "  143,\n",
       "  143,\n",
       "  143,\n",
       "  143,\n",
       "  143,\n",
       "  143,\n",
       "  143],\n",
       " [124,\n",
       "  107,\n",
       "  108,\n",
       "  119,\n",
       "  128,\n",
       "  140,\n",
       "  53,\n",
       "  131,\n",
       "  86,\n",
       "  24,\n",
       "  120,\n",
       "  24,\n",
       "  12,\n",
       "  31,\n",
       "  24,\n",
       "  126,\n",
       "  62,\n",
       "  49,\n",
       "  140,\n",
       "  143,\n",
       "  143,\n",
       "  143,\n",
       "  143,\n",
       "  143,\n",
       "  143,\n",
       "  143,\n",
       "  143,\n",
       "  143,\n",
       "  143,\n",
       "  143,\n",
       "  143,\n",
       "  143,\n",
       "  143,\n",
       "  143,\n",
       "  143,\n",
       "  143,\n",
       "  143,\n",
       "  143,\n",
       "  143,\n",
       "  143],\n",
       " [12,\n",
       "  76,\n",
       "  113,\n",
       "  132,\n",
       "  24,\n",
       "  84,\n",
       "  99,\n",
       "  136,\n",
       "  73,\n",
       "  28,\n",
       "  94,\n",
       "  104,\n",
       "  74,\n",
       "  91,\n",
       "  130,\n",
       "  143,\n",
       "  143,\n",
       "  143,\n",
       "  143,\n",
       "  143,\n",
       "  143,\n",
       "  143,\n",
       "  143,\n",
       "  143,\n",
       "  143,\n",
       "  143,\n",
       "  143,\n",
       "  143,\n",
       "  143,\n",
       "  143,\n",
       "  143,\n",
       "  143,\n",
       "  143,\n",
       "  143,\n",
       "  143,\n",
       "  143,\n",
       "  143,\n",
       "  143,\n",
       "  143,\n",
       "  143],\n",
       " [60,\n",
       "  104,\n",
       "  138,\n",
       "  106,\n",
       "  123,\n",
       "  86,\n",
       "  28,\n",
       "  71,\n",
       "  92,\n",
       "  50,\n",
       "  141,\n",
       "  53,\n",
       "  136,\n",
       "  26,\n",
       "  137,\n",
       "  41,\n",
       "  139,\n",
       "  19,\n",
       "  44,\n",
       "  102,\n",
       "  143,\n",
       "  143,\n",
       "  143,\n",
       "  143,\n",
       "  143,\n",
       "  143,\n",
       "  143,\n",
       "  143,\n",
       "  143,\n",
       "  143,\n",
       "  143,\n",
       "  143,\n",
       "  143,\n",
       "  143,\n",
       "  143,\n",
       "  143,\n",
       "  143,\n",
       "  143,\n",
       "  143,\n",
       "  143],\n",
       " [131,\n",
       "  98,\n",
       "  28,\n",
       "  70,\n",
       "  67,\n",
       "  122,\n",
       "  28,\n",
       "  133,\n",
       "  66,\n",
       "  43,\n",
       "  143,\n",
       "  143,\n",
       "  143,\n",
       "  143,\n",
       "  143,\n",
       "  143,\n",
       "  143,\n",
       "  143,\n",
       "  143,\n",
       "  143,\n",
       "  143,\n",
       "  143,\n",
       "  143,\n",
       "  143,\n",
       "  143,\n",
       "  143,\n",
       "  143,\n",
       "  143,\n",
       "  143,\n",
       "  143,\n",
       "  143,\n",
       "  143,\n",
       "  143,\n",
       "  143,\n",
       "  143,\n",
       "  143,\n",
       "  143,\n",
       "  143,\n",
       "  143,\n",
       "  143]]"
      ]
     },
     "execution_count": 32,
     "metadata": {},
     "output_type": "execute_result"
    }
   ],
   "source": [
    "Y"
   ]
  },
  {
   "cell_type": "code",
   "execution_count": 33,
   "metadata": {},
   "outputs": [],
   "source": [
    "#The output layer gonna be with 40 nodes with a Softmax Activation Function..!! "
   ]
  },
  {
   "cell_type": "code",
   "execution_count": 34,
   "metadata": {},
   "outputs": [
    {
     "name": "stdout",
     "output_type": "stream",
     "text": [
      "Done with DataPreprocessing...!!\n"
     ]
    }
   ],
   "source": [
    "if len(X)==len(Y):\n",
    "    print(\"Done with DataPreprocessing...!!\")"
   ]
  },
  {
   "cell_type": "code",
   "execution_count": 35,
   "metadata": {},
   "outputs": [],
   "source": [
    "#Now we have label Y & feature X...."
   ]
  },
  {
   "cell_type": "code",
   "execution_count": 36,
   "metadata": {},
   "outputs": [],
   "source": [
    "import numpy as np"
   ]
  },
  {
   "cell_type": "code",
   "execution_count": 37,
   "metadata": {},
   "outputs": [],
   "source": [
    "for i in range(len(X)):\n",
    "    X[i]=np.array(X[i])"
   ]
  },
  {
   "cell_type": "code",
   "execution_count": 38,
   "metadata": {},
   "outputs": [
    {
     "data": {
      "text/plain": [
       "(400000,)"
      ]
     },
     "execution_count": 38,
     "metadata": {},
     "output_type": "execute_result"
    }
   ],
   "source": [
    "X[0].shape"
   ]
  },
  {
   "cell_type": "code",
   "execution_count": 39,
   "metadata": {},
   "outputs": [],
   "source": [
    "#So the input layer gonna have input dimension (400000,)........"
   ]
  },
  {
   "cell_type": "code",
   "execution_count": 40,
   "metadata": {},
   "outputs": [],
   "source": [
    "#Now Building the Model..!!"
   ]
  },
  {
   "cell_type": "code",
   "execution_count": 1,
   "metadata": {},
   "outputs": [
    {
     "name": "stderr",
     "output_type": "stream",
     "text": [
      "Using TensorFlow backend.\n"
     ]
    }
   ],
   "source": [
    "import keras\n",
    "import tensorflow as tf\n",
    "from keras.models import Sequential, Model\n",
    "from keras.callbacks import Callback\n",
    "from keras.layers import *\n",
    "from keras.optimizers import Adam, SGD\n",
    "from keras.activations import relu\n",
    "from keras.metrics import categorical_accuracy, mean_squared_error\n",
    "from keras.callbacks import BaseLogger, ModelCheckpoint, EarlyStopping, TensorBoard, ReduceLROnPlateau"
   ]
  },
  {
   "cell_type": "code",
   "execution_count": 2,
   "metadata": {},
   "outputs": [],
   "source": [
    "def clipped_relu(x):\n",
    "    return relu(x, max_value=20)"
   ]
  },
  {
   "cell_type": "code",
   "execution_count": 6,
   "metadata": {},
   "outputs": [],
   "source": [
    "model = Sequential()\n",
    "\n",
    "\n",
    "    # Batch normalize the input\n",
    "#model.add(BatchNormalization(axis=-1, input_shape=(400000,), name='BN_1'))\n",
    "    \n",
    "    # 1D Convs\n",
    "model.add(Conv1D(512, 5, strides=1, activation=clipped_relu, name='Conv1D_1'))\n",
    "model.add(Conv1D(512, 5, strides=1, activation=clipped_relu, name='Conv1D_2'))\n",
    "model.add(Conv1D(512, 5, strides=2, activation=clipped_relu, name='Conv1D_3'))\n",
    "    \n",
    "    # Batch Normalization\n",
    "model.add(BatchNormalization(axis=-1, name='BN_2'))\n",
    "    \n",
    "    # BiRNNs\n",
    "model.add(Bidirectional(SimpleRNN(1280, return_sequences=True, name='BiRNN_1'), merge_mode='sum'))\n",
    "model.add(Bidirectional(SimpleRNN(1280, return_sequences=True, name='BiRNN_2'), merge_mode='sum'))\n",
    "model.add(Bidirectional(SimpleRNN(1280, return_sequences=True, name='BiRNN_3'), merge_mode='sum'))\n",
    "model.add(Bidirectional(SimpleRNN(1280, return_sequences=True, name='BiRNN_4'), merge_mode='sum'))\n",
    "model.add(Bidirectional(SimpleRNN(1280, return_sequences=True, name='BiRNN_5'), merge_mode='sum'))\n",
    "model.add(Bidirectional(SimpleRNN(1280, return_sequences=True, name='BiRNN_6'), merge_mode='sum'))\n",
    "model.add(Bidirectional(SimpleRNN(1280, return_sequences=True, name='BiRNN_7'), merge_mode='sum'))\n",
    "    \n",
    "    # Batch Normalization\n",
    "model.add(BatchNormalization(axis=-1, name='BN_3'))\n",
    "    \n",
    "    # FC\n",
    "model.add(TimeDistributed(Dense(1024, activation=clipped_relu, name='FC1')))\n",
    "model.add(TimeDistributed(Dense(40, activation='softmax', name='y_pred')))"
   ]
  },
  {
   "cell_type": "code",
   "execution_count": 7,
   "metadata": {},
   "outputs": [],
   "source": [
    "model.compile(optimizer='rmsprop',loss='mse')"
   ]
  },
  {
   "cell_type": "code",
   "execution_count": null,
   "metadata": {},
   "outputs": [],
   "source": [
    "mode.fit(X,Y,epochs=15,batch_size=6)"
   ]
  },
  {
   "cell_type": "code",
   "execution_count": null,
   "metadata": {},
   "outputs": [],
   "source": [
    "model.predict(Xtest)"
   ]
  }
 ],
 "metadata": {
  "kernelspec": {
   "display_name": "Python 3",
   "language": "python",
   "name": "python3"
  },
  "language_info": {
   "codemirror_mode": {
    "name": "ipython",
    "version": 3
   },
   "file_extension": ".py",
   "mimetype": "text/x-python",
   "name": "python",
   "nbconvert_exporter": "python",
   "pygments_lexer": "ipython3",
   "version": "3.7.2"
  }
 },
 "nbformat": 4,
 "nbformat_minor": 2
}
